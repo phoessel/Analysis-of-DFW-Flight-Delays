{
 "cells": [
  {
   "cell_type": "code",
   "execution_count": 1,
   "metadata": {
    "collapsed": true
   },
   "outputs": [],
   "source": [
    "import pandas as pd\n",
    "import glob\n",
    "import time\n",
    "import warnings"
   ]
  },
  {
   "cell_type": "code",
   "execution_count": 2,
   "metadata": {
    "collapsed": true
   },
   "outputs": [],
   "source": [
    "# Disable iPython low_memory warnings\n",
    "warnings.filterwarnings('ignore')"
   ]
  },
  {
   "cell_type": "code",
   "execution_count": 3,
   "metadata": {
    "collapsed": true
   },
   "outputs": [],
   "source": [
    "# Read csv containing list of columns to drop\n",
    "drop_col = pd.read_csv('drop_columns.csv', index_col=False)\n",
    "drop_col_list = drop_col['ColNum'].tolist()\n",
    "\n",
    "# Read csv containing unique carrier IDs with full names\n",
    "carriers = pd.read_csv('lookup_tables/L_UNIQUE_CARRIERS.csv', index_col=False)"
   ]
  },
  {
   "cell_type": "code",
   "execution_count": 31,
   "metadata": {},
   "outputs": [
    {
     "name": "stdout",
     "output_type": "stream",
     "text": [
      "------------------------------\n",
      "Begin Data Munging\n",
      "------------------------------\n",
      "Processing file  1 of 12 | raw\\On_Time_On_Time_Performance_2016_1.csv\n",
      "Processing file  2 of 12 | raw\\On_Time_On_Time_Performance_2016_10.csv\n",
      "Processing file  3 of 12 | raw\\On_Time_On_Time_Performance_2016_11.csv\n",
      "Processing file  4 of 12 | raw\\On_Time_On_Time_Performance_2016_12.csv\n",
      "Processing file  5 of 12 | raw\\On_Time_On_Time_Performance_2016_2.csv\n",
      "Processing file  6 of 12 | raw\\On_Time_On_Time_Performance_2016_3.csv\n",
      "Processing file  7 of 12 | raw\\On_Time_On_Time_Performance_2016_4.csv\n",
      "Processing file  8 of 12 | raw\\On_Time_On_Time_Performance_2016_5.csv\n",
      "Processing file  9 of 12 | raw\\On_Time_On_Time_Performance_2016_6.csv\n",
      "Processing file 10 of 12 | raw\\On_Time_On_Time_Performance_2016_7.csv\n",
      "Processing file 11 of 12 | raw\\On_Time_On_Time_Performance_2016_8.csv\n",
      "Processing file 12 of 12 | raw\\On_Time_On_Time_Performance_2016_9.csv\n",
      "------------------------------\n",
      "Saving origin delay data...\n",
      "Saving destination delay data...\n",
      "------------------------------\n",
      "Data Munging Complete\n",
      "Processing time: 159.26 seconds\n",
      "------------------------------\n"
     ]
    }
   ],
   "source": [
    "start_time = time.time()\n",
    "\n",
    "origin_df_list = []\n",
    "dest_df_list = []\n",
    "counter = 1\n",
    "\n",
    "print('------------------------------\\nBegin Data Munging\\n------------------------------')\n",
    "\n",
    "path = \"raw/*.csv\"\n",
    "for fname in glob.glob(path):\n",
    "    print(f'Processing file {\"{0:>2s}\".format(str(counter))} of {len(glob.glob(path))} | {fname}')\n",
    "    counter = counter + 1\n",
    "    \n",
    "    raw_data = pd.read_csv(fname, index_col=False)\n",
    "    raw_df = pd.DataFrame(raw_data)\n",
    "    raw_df = raw_df.drop(raw_df.iloc[:,drop_col_list], axis=1)\n",
    "    \n",
    "    origin_df = raw_df[raw_df['Origin'] == 'LAX']\n",
    "    origin_df = origin_df.dropna(subset=['DepDel15'])\n",
    "    origin_df = origin_df.join(carriers.set_index('Code')['Description'], on='UniqueCarrier')\n",
    "    origin_df = origin_df.rename(columns={'Description':'CarrierName'})\n",
    "    origin_df_list.append(origin_df)\n",
    "    \n",
    "    dest_df = raw_df[raw_df['Dest'] == 'LAX']\n",
    "    dest_df = dest_df.dropna(subset=['ArrDel15'])\n",
    "    dest_df = dest_df.join(carriers.set_index('Code')['Description'], on='UniqueCarrier')\n",
    "    dest_df = dest_df.rename(columns={'Description':'CarrierName'})\n",
    "    dest_df_list.append(dest_df)    \n",
    "\n",
    "print('------------------------------\\nSaving origin delay data...')\n",
    "combined_origin = pd.concat(origin_df_list)\n",
    "combined_origin = combined_origin.reset_index(drop=True)\n",
    "combined_origin.to_csv('clean/LAX_Origin_Flight_Delays_2016.csv', encoding='utf-8', index=False)\n",
    "\n",
    "print('Saving destination delay data...')\n",
    "combined_dest = pd.concat(dest_df_list)\n",
    "combined_dest = combined_dest.reset_index(drop=True)\n",
    "combined_dest.to_csv('clean/LAX_Dest_Flight_Delays_2016.csv', encoding='utf-8', index=False)\n",
    "\n",
    "print('------------------------------\\nData Munging Complete')\n",
    "print('Processing time: '+ str(round(time.time() - start_time, 2)) + ' seconds')\n",
    "print('------------------------------')"
   ]
  },
  {
   "cell_type": "code",
   "execution_count": null,
   "metadata": {
    "collapsed": true
   },
   "outputs": [],
   "source": []
  }
 ],
 "metadata": {
  "kernelspec": {
   "display_name": "Python 3",
   "language": "python",
   "name": "python3"
  },
  "language_info": {
   "codemirror_mode": {
    "name": "ipython",
    "version": 3
   },
   "file_extension": ".py",
   "mimetype": "text/x-python",
   "name": "python",
   "nbconvert_exporter": "python",
   "pygments_lexer": "ipython3",
   "version": "3.6.2"
  }
 },
 "nbformat": 4,
 "nbformat_minor": 2
}
