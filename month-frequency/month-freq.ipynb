{
 "cells": [
  {
   "cell_type": "code",
   "execution_count": 2,
   "metadata": {
    "collapsed": true
   },
   "outputs": [],
   "source": [
    "import pandas as pd\n",
    "import numpy as np\n",
    "import matplotlib.pyplot as plt\n",
    "import calendar"
   ]
  },
  {
   "cell_type": "code",
   "execution_count": 3,
   "metadata": {},
   "outputs": [],
   "source": [
    "plt.style.use('ggplot')"
   ]
  },
  {
   "cell_type": "code",
   "execution_count": 4,
   "metadata": {
    "collapsed": true
   },
   "outputs": [],
   "source": [
    "outbound = pd.read_csv('../data/clean/LAX_Origin_Flight_Delays_2016.csv')\n",
    "inbound = pd.read_csv('../data/clean/LAX_Dest_Flight_Delays_2016.csv')\n",
    "\n",
    "#flight_list = [outbound_file, inbound_file]\n",
    "#all_flights = pd.concat(flight_list)"
   ]
  },
  {
   "cell_type": "code",
   "execution_count": 43,
   "metadata": {},
   "outputs": [
    {
     "data": {
      "text/html": [
       "<div>\n",
       "<style>\n",
       "    .dataframe thead tr:only-child th {\n",
       "        text-align: right;\n",
       "    }\n",
       "\n",
       "    .dataframe thead th {\n",
       "        text-align: left;\n",
       "    }\n",
       "\n",
       "    .dataframe tbody tr th {\n",
       "        vertical-align: top;\n",
       "    }\n",
       "</style>\n",
       "<table border=\"1\" class=\"dataframe\">\n",
       "  <thead>\n",
       "    <tr style=\"text-align: right;\">\n",
       "      <th></th>\n",
       "      <th>Total Flights</th>\n",
       "    </tr>\n",
       "    <tr>\n",
       "      <th>Month</th>\n",
       "      <th></th>\n",
       "    </tr>\n",
       "  </thead>\n",
       "  <tbody>\n",
       "    <tr>\n",
       "      <th>1</th>\n",
       "      <td>32231</td>\n",
       "    </tr>\n",
       "    <tr>\n",
       "      <th>2</th>\n",
       "      <td>30510</td>\n",
       "    </tr>\n",
       "    <tr>\n",
       "      <th>3</th>\n",
       "      <td>34295</td>\n",
       "    </tr>\n",
       "    <tr>\n",
       "      <th>4</th>\n",
       "      <td>33714</td>\n",
       "    </tr>\n",
       "    <tr>\n",
       "      <th>5</th>\n",
       "      <td>35113</td>\n",
       "    </tr>\n",
       "    <tr>\n",
       "      <th>6</th>\n",
       "      <td>37797</td>\n",
       "    </tr>\n",
       "    <tr>\n",
       "      <th>7</th>\n",
       "      <td>39364</td>\n",
       "    </tr>\n",
       "    <tr>\n",
       "      <th>8</th>\n",
       "      <td>38989</td>\n",
       "    </tr>\n",
       "    <tr>\n",
       "      <th>9</th>\n",
       "      <td>34899</td>\n",
       "    </tr>\n",
       "    <tr>\n",
       "      <th>10</th>\n",
       "      <td>35734</td>\n",
       "    </tr>\n",
       "    <tr>\n",
       "      <th>11</th>\n",
       "      <td>33983</td>\n",
       "    </tr>\n",
       "    <tr>\n",
       "      <th>12</th>\n",
       "      <td>35225</td>\n",
       "    </tr>\n",
       "  </tbody>\n",
       "</table>\n",
       "</div>"
      ],
      "text/plain": [
       "       Total Flights\n",
       "Month               \n",
       "1              32231\n",
       "2              30510\n",
       "3              34295\n",
       "4              33714\n",
       "5              35113\n",
       "6              37797\n",
       "7              39364\n",
       "8              38989\n",
       "9              34899\n",
       "10             35734\n",
       "11             33983\n",
       "12             35225"
      ]
     },
     "execution_count": 43,
     "metadata": {},
     "output_type": "execute_result"
    }
   ],
   "source": [
    "total_outbound_flights = outbound.groupby(['Month']).count()\n",
    "total_outbound_flights = pd.DataFrame(total_outbound_flights['TailNum'])\n",
    "total_outbound_flights = total_outbound_flights.rename(columns={'TailNum':'Outbound Flights'})\n",
    "\n",
    "total_inbound_flights = inbound.groupby(['Month']).count()\n",
    "total_inbound_flights = pd.DataFrame(total_inbound_flights['TailNum'])\n",
    "total_inbound_flights = total_inbound_flights.rename(columns={'TailNum':'Inbound Flights'})\n",
    "\n",
    "total_flights = pd.concat([total_outbound_flights, total_inbound_flights], axis=1, join_axes=[total_outbound_flights.index])\n",
    "total_flights['Total Flights'] = total_flights.sum(axis=1)\n",
    "total_flights = total_flights[['Total Flights']]\n"
   ]
  },
  {
   "cell_type": "code",
   "execution_count": 6,
   "metadata": {},
   "outputs": [
    {
     "name": "stdout",
     "output_type": "stream",
     "text": [
      "Total outbound delays: 48494\n",
      "Total inbound delays: 49065\n"
     ]
    }
   ],
   "source": [
    "#Outbound Flight Delays\n",
    "outbound_delays = outbound.loc[outbound['DepDel15'] == 1]\n",
    "total_outbound_delays = len(outbound_delays['FlightNum'])\n",
    "print(f\"Total outbound delays: {total_outbound_delays}\")\n",
    "\n",
    "monthly_outbound = outbound_delays.groupby(['Month']).sum()\n",
    "m_outbound_sum = pd.DataFrame(monthly_outbound['DepDel15'])\n",
    "\n",
    "#Inbound Flight Delays\n",
    "inbound_delays = inbound.loc[inbound['ArrDel15'] == 1]\n",
    "total_inbound_delays = len(inbound_delays['FlightNum'])\n",
    "print(f\"Total inbound delays: {total_inbound_delays}\")\n",
    "\n",
    "monthly_inbound = inbound_delays.groupby(['Month']).sum()\n",
    "m_inbound_sum = pd.DataFrame(monthly_inbound['ArrDel15'])\n"
   ]
  },
  {
   "cell_type": "code",
   "execution_count": 34,
   "metadata": {},
   "outputs": [
    {
     "data": {
      "text/html": [
       "<div>\n",
       "<style>\n",
       "    .dataframe thead tr:only-child th {\n",
       "        text-align: right;\n",
       "    }\n",
       "\n",
       "    .dataframe thead th {\n",
       "        text-align: left;\n",
       "    }\n",
       "\n",
       "    .dataframe tbody tr th {\n",
       "        vertical-align: top;\n",
       "    }\n",
       "</style>\n",
       "<table border=\"1\" class=\"dataframe\">\n",
       "  <thead>\n",
       "    <tr style=\"text-align: right;\">\n",
       "      <th></th>\n",
       "      <th>AllDelays</th>\n",
       "    </tr>\n",
       "    <tr>\n",
       "      <th>Month</th>\n",
       "      <th></th>\n",
       "    </tr>\n",
       "  </thead>\n",
       "  <tbody>\n",
       "    <tr>\n",
       "      <th>1</th>\n",
       "      <td>6390.0</td>\n",
       "    </tr>\n",
       "    <tr>\n",
       "      <th>2</th>\n",
       "      <td>4595.0</td>\n",
       "    </tr>\n",
       "    <tr>\n",
       "      <th>3</th>\n",
       "      <td>7353.0</td>\n",
       "    </tr>\n",
       "    <tr>\n",
       "      <th>4</th>\n",
       "      <td>6030.0</td>\n",
       "    </tr>\n",
       "    <tr>\n",
       "      <th>5</th>\n",
       "      <td>6987.0</td>\n",
       "    </tr>\n",
       "    <tr>\n",
       "      <th>6</th>\n",
       "      <td>11143.0</td>\n",
       "    </tr>\n",
       "    <tr>\n",
       "      <th>7</th>\n",
       "      <td>10654.0</td>\n",
       "    </tr>\n",
       "    <tr>\n",
       "      <th>8</th>\n",
       "      <td>10355.0</td>\n",
       "    </tr>\n",
       "    <tr>\n",
       "      <th>9</th>\n",
       "      <td>6592.0</td>\n",
       "    </tr>\n",
       "    <tr>\n",
       "      <th>10</th>\n",
       "      <td>8245.0</td>\n",
       "    </tr>\n",
       "    <tr>\n",
       "      <th>11</th>\n",
       "      <td>6405.0</td>\n",
       "    </tr>\n",
       "    <tr>\n",
       "      <th>12</th>\n",
       "      <td>12810.0</td>\n",
       "    </tr>\n",
       "  </tbody>\n",
       "</table>\n",
       "</div>"
      ],
      "text/plain": [
       "       AllDelays\n",
       "Month           \n",
       "1         6390.0\n",
       "2         4595.0\n",
       "3         7353.0\n",
       "4         6030.0\n",
       "5         6987.0\n",
       "6        11143.0\n",
       "7        10654.0\n",
       "8        10355.0\n",
       "9         6592.0\n",
       "10        8245.0\n",
       "11        6405.0\n",
       "12       12810.0"
      ]
     },
     "execution_count": 34,
     "metadata": {},
     "output_type": "execute_result"
    }
   ],
   "source": [
    "merged = m_outbound_sum.join(m_inbound_sum)\n",
    "merged['AllDelays'] = merged.sum(axis=1)\n",
    "total_delays = pd.DataFrame(merged['AllDelays'])\n",
    "total_delays"
   ]
  },
  {
   "cell_type": "code",
   "execution_count": 10,
   "metadata": {},
   "outputs": [
    {
     "data": {
      "image/png": "[encoded data removed]",
      "text/plain": [
       "<matplotlib.figure.Figure at 0x167ebee5358>"
      ]
     },
     "metadata": {},
     "output_type": "display_data"
    }
   ],
   "source": [
    "x_axis = np.arange(0,12,1)\n",
    "y_axis = np.arange(3,14,1)\n",
    "months = calendar.month_name[1:13]\n",
    "\n",
    "plt.figure(figsize=(10,7))\n",
    "plt.plot(x_axis, total_delays['AllDelays'])\n",
    "plt.xticks(x_axis, months, rotation=45)\n",
    "plt.yticks(np.arange(3000, 14000, 1000), y_axis)\n",
    "plt.ylabel('Delays (thousands)')\n",
    "plt.title('Total Delays per month\\n(LAX 2016)')\n",
    "plt.show()"
   ]
  },
  {
   "cell_type": "code",
   "execution_count": null,
   "metadata": {
    "collapsed": true
   },
   "outputs": [],
   "source": []
  }
 ],
 "metadata": {
  "kernelspec": {
   "display_name": "Python 3",
   "language": "python",
   "name": "python3"
  },
  "language_info": {
   "codemirror_mode": {
    "name": "ipython",
    "version": 3
   },
   "file_extension": ".py",
   "mimetype": "text/x-python",
   "name": "python",
   "nbconvert_exporter": "python",
   "pygments_lexer": "ipython3",
   "version": "3.6.2"
  }
 },
 "nbformat": 4,
 "nbformat_minor": 2
}
