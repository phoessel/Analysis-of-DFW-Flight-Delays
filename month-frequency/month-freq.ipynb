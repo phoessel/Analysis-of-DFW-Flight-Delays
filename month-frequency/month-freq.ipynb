{
 "cells": [
  {
   "cell_type": "code",
   "execution_count": 2,
   "metadata": {
    "collapsed": true
   },
   "outputs": [],
   "source": [
    "import pandas as pd\n",
    "import numpy as np\n",
    "import matplotlib.pyplot as plt"
   ]
  },
  {
   "cell_type": "code",
   "execution_count": 16,
   "metadata": {
    "collapsed": true
   },
   "outputs": [],
   "source": [
    "outbound = pd.read_csv('../data/clean/LAX_Origin_Flight_Delays_2016.csv')\n",
    "inbound = pd.read_csv('../data/clean/LAX_Dest_Flight_Delays_2016.csv')\n",
    "\n",
    "#flight_list = [outbound_file, inbound_file]\n",
    "#all_flights = pd.concat(flight_list)"
   ]
  },
  {
   "cell_type": "code",
   "execution_count": 17,
   "metadata": {},
   "outputs": [],
   "source": [
    "total_outbound_flights = len(outbound['FlightNum'])\n",
    "total_inbound_flights = len(inbound['FlightNum'])"
   ]
  },
  {
   "cell_type": "code",
   "execution_count": 29,
   "metadata": {},
   "outputs": [
    {
     "name": "stdout",
     "output_type": "stream",
     "text": [
      "Total outbound delays: 48494\n",
      "Month\n",
      "1     3258.0\n",
      "2     2401.0\n",
      "3     3768.0\n",
      "4     3053.0\n",
      "5     3490.0\n",
      "6     5513.0\n",
      "7     5260.0\n",
      "8     5227.0\n",
      "9     3246.0\n",
      "10    3968.0\n",
      "11    3247.0\n",
      "12    6063.0\n",
      "Name: DepDel15, dtype: float64\n",
      "48494.0\n"
     ]
    }
   ],
   "source": [
    "outbound_delays = outbound.loc[outbound['DepDel15'] == 1]\n",
    "total_delays = len(outbound_delays['FlightNum'])\n",
    "print(f\"Total outbound delays: {total_delays}\")\n",
    "\n",
    "monthly_outbound = outbound_delays.groupby(['Month']).sum()\n",
    "print(monthly_outbound['DepDel15'].head(12))\n",
    "print(monthly_outbound['DepDel15'].sum())"
   ]
  },
  {
   "cell_type": "code",
   "execution_count": null,
   "metadata": {
    "collapsed": true
   },
   "outputs": [],
   "source": []
  }
 ],
 "metadata": {
  "kernelspec": {
   "display_name": "Python 3",
   "language": "python",
   "name": "python3"
  },
  "language_info": {
   "codemirror_mode": {
    "name": "ipython",
    "version": 3
   },
   "file_extension": ".py",
   "mimetype": "text/x-python",
   "name": "python",
   "nbconvert_exporter": "python",
   "pygments_lexer": "ipython3",
   "version": "3.6.2"
  }
 },
 "nbformat": 4,
 "nbformat_minor": 2
}
